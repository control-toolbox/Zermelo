{
 "cells": [
  {
   "cell_type": "markdown",
   "metadata": {},
   "source": [
    "# The Lindblad equation\n",
    "\n",
    "We consider the Hamiltonian\n",
    "\n",
    "$$\n",
    "    H(r, \\theta, p_r, p_\\theta) = p_r\\, \\mu(r) + \\Vert p \\Vert_{g}\n",
    "$$\n",
    "\n",
    "where\n",
    "\n",
    "$$\n",
    "    \\mu(r) = \\delta \\sin 2r, \\quad \n",
    "    \\Vert p \\Vert_{g} =  \\sqrt{ p_r^2 + \\frac{p_\\theta^2}{m_\\lambda^2(r)} }, \\quad\n",
    "    m_\\lambda^2(r) = \\frac{\\sin^2 r}{1 - \\lambda \\sin^2 r}\n",
    "$$\n",
    "\n",
    "and where $\\delta$ and $\\lambda$ are constants. \n",
    "We will fix $\\delta > 1$ (strong Zermelo case) and $\\lambda = 4/5$.\n",
    "Along the geodesics, we have $H+p^0 = 0$. The parameter $p^0$ is constant equal to $-1$ (hyperbolic), $0$ (abnormal) or $1$ (elliptic).\n",
    "\n",
    "**Remark.** We can parameterize the geodesics by the norm of the initial convector, setting $\\Vert{p_0}\\Vert_g = 1$. \n",
    "This amounts to parameterize by the initial angle $\\alpha_0$:\n",
    "$$\n",
    "    p_r = \\sin \\alpha_0, \\quad p_\\theta = m_\\lambda(r) \\cos \\alpha_0.\n",
    "$$\n",
    "In that case, the hyperbolic geodeics are given by\n",
    "$$\n",
    "    p_r\\, \\mu(r) + 1 = \\sin(\\alpha_0)\\, \\delta \\sin(2r) + 1 > 0.\n",
    "$$"
   ]
  },
  {
   "cell_type": "markdown",
   "metadata": {},
   "source": [
    "## Packages"
   ]
  },
  {
   "cell_type": "code",
   "execution_count": 1,
   "metadata": {},
   "outputs": [],
   "source": [
    "import sys\n",
    "sys.path.insert(1, '../')\n",
    "#\n",
    "import math\n",
    "import numpy as np              # scientific computing tools\n",
    "import wrappers                 # for compilation of Fortran Hamiltonian codes\n",
    "import geometry2d.database\n",
    "import geometry2d.conjugate\n",
    "import geometry2d.errors\n",
    "import geometry2d.geodesic\n",
    "import geometry2d.plottings\n",
    "import geometry2d.problem\n",
    "import geometry2d.splitting\n",
    "import geometry2d.utils\n",
    "import geometry2d.wavefront\n",
    "import matplotlib.pyplot as plt # for plots\n",
    "%matplotlib inline"
   ]
  },
  {
   "cell_type": "code",
   "execution_count": null,
   "metadata": {},
   "outputs": [],
   "source": [
    "#\n",
    "color_hyperbolic = 'red'\n",
    "color_elliptic   = 'blue'\n",
    "color_abnormal   = 'green'\n",
    "color_cut_locus  = 'black'\n",
    "color_conjugate  = 'magenta'\n",
    "#\n",
    "color_strong_domain_2d = 'lightblue'\n",
    "color_strong_domain_3d = 'blue'"
   ]
  },
  {
   "cell_type": "markdown",
   "metadata": {},
   "source": [
    "## Fortran Hamiltonian code"
   ]
  },
  {
   "cell_type": "code",
   "execution_count": null,
   "metadata": {},
   "outputs": [],
   "source": [
    "# print Fortran code of the Hamiltonian: print hfun.f90 file\n",
    "with open('hfun.f90', 'r') as f:\n",
    "    print(f.read())"
   ]
  },
  {
   "cell_type": "markdown",
   "metadata": {},
   "source": [
    "## Initializations"
   ]
  },
  {
   "cell_type": "code",
   "execution_count": null,
   "metadata": {},
   "outputs": [],
   "source": [
    "def initialize(d, r0):\n",
    "\n",
    "    # Parameters\n",
    "    #d  = -1.25        # strong Zermelo case\n",
    "    #r0 = np.pi/2.0 #+ 3.0*np.pi/8.0 # initial azimuth\n",
    "    θ0 = 0.0        # initial latitude\n",
    "    t0 = 0.0        # initial time\n",
    "\n",
    "    name = 'lindblad_strong' # name of the problem\n",
    "\n",
    "    # Initialize data\n",
    "    data_file = 'data_lindblad_strong.json'\n",
    "    restart   = False # restart or not the computations\n",
    "    data      = geometry2d.database.Data({'name': name,\n",
    "                        't0': t0, \n",
    "                        'r0': r0, \n",
    "                        'θ0': θ0, \n",
    "                        'd': d}, data_file, restart)\n",
    "\n",
    "    # Initial point\n",
    "    q0 = np.array([r0, θ0])\n",
    "\n",
    "    # Hamiltonian and derivatives up to order 3\n",
    "    H = wrappers.hamiltonian(d, compile=False, display=False)\n",
    "\n",
    "    # The Riemannian metric associated to the Zermelo problem\n",
    "    def g(q):\n",
    "        λ  = 4.0/5.0\n",
    "        r  = q[0] \n",
    "        g1 = 1.0\n",
    "        g2 = np.sqrt(np.sin(r)**2/(1.0-λ*np.sin(r)**2))\n",
    "        return g1, g2\n",
    "\n",
    "    # problem\n",
    "    prob = geometry2d.problem.GeometryProblem2D(name, H, g, t0, q0, data, steps_for_geodesics=200)\n",
    "    \n",
    "    return prob"
   ]
  },
  {
   "cell_type": "code",
   "execution_count": null,
   "metadata": {},
   "outputs": [],
   "source": [
    "# function to plot the domain of strong current between two angles r1 and r2\n",
    "def plot_2d_domain(fig, r1, r2):\n",
    "    # from r to phi\n",
    "    def phi(r):\n",
    "        return r - np.pi/2.0\n",
    "    ph1 = phi(r1)\n",
    "    ph2 = phi(r2)\n",
    "    # plot the domain: a 2d surface\n",
    "    ax = fig.axes[0]\n",
    "    x  = np.linspace(-np.pi, np.pi, 100)\n",
    "    y1 = np.ones_like(x)*ph1\n",
    "    y2 = np.ones_like(x)*ph2\n",
    "    ax.fill_between(x, y1, y2, color=color_strong_domain_2d, alpha=0.5)\n",
    "    return fig  "
   ]
  },
  {
   "cell_type": "code",
   "execution_count": null,
   "metadata": {},
   "outputs": [],
   "source": [
    "def plot_3d_domain(fig, r1, r2):\n",
    "    # from r to phi\n",
    "    def phi(r):\n",
    "        return r - np.pi/2.0\n",
    "    φ1 = phi(r1)\n",
    "    φ2 = phi(r2)\n",
    "    # plot the domain: a 2d surface between the parallel of latitude φ1 and φ2 on the sphere\n",
    "    ax = fig.axes[0]\n",
    "    # \n",
    "    u = np.linspace(0, 2 * np.pi, 100)\n",
    "    v = np.linspace(φ1, φ2, 100)\n",
    "    x = np.outer(np.cos(u), np.cos(v))\n",
    "    y = np.outer(np.sin(u), np.cos(v))\n",
    "    z = np.outer(np.ones(np.size(u)), np.sin(v))\n",
    "    #\n",
    "    ax.plot_surface(x, y, z, color=color_strong_domain_3d, alpha=0.5)\n",
    "    return fig"
   ]
  },
  {
   "cell_type": "markdown",
   "metadata": {},
   "source": [
    "## Parameterization of the geodesics"
   ]
  },
  {
   "cell_type": "code",
   "execution_count": null,
   "metadata": {},
   "outputs": [],
   "source": [
    "# we parameterize ||p(0)|| = 1 by the angle α0\n",
    "# the norm being given by the metric g: p(0) = (sin(α0)*g1, cos(α0)*g2) = (sin(α0), cos(α0)*g2), since g1 = 1\n",
    "# get the values of α0 for which h = pr mu(r) + 1 > 0\n",
    "#\n",
    "# first get the values of α for which h = pr mu(r) + 1 = 0\n",
    "def mu(r, d):\n",
    "    return d*np.sin(2*r)\n",
    "\n",
    "def pr(α):\n",
    "    return np.sin(α)\n",
    "\n",
    "def h(r, α, d):\n",
    "    return pr(α)*mu(r, d) + 1.0\n",
    "\n",
    "def α0(r, d):\n",
    "    return np.arcsin(-1.0/mu(r, d))\n",
    "\n",
    "# get the values of α0 for which h = pr mu(r) + 1 > 0\n",
    "def α_hyperbolique_1(r, d):\n",
    "    m = mu(r, d)\n",
    "    if abs(m) > 1.0:\n",
    "        α = α0(r, d) # between -pi/2 and pi/2\n",
    "        if α > 0.0:\n",
    "            return np.pi - α\n",
    "        else:\n",
    "            return α\n",
    "    else:\n",
    "        return 0.0\n",
    "\n",
    "def α_hyperbolique_2(r, d):\n",
    "    m = mu(r, d)\n",
    "    if abs(m) > 1.0:\n",
    "        α = α0(r, d) # between -pi/2 and pi/2\n",
    "        if α > 0.0:\n",
    "            return 2.0*np.pi + α\n",
    "        else:\n",
    "            return np.pi - α\n",
    "    else:\n",
    "        return 2.0*np.pi\n",
    "\n",
    "def α_hyperbolique_span(r, d, *, N=20):\n",
    "    α1 = α_hyperbolique_1(r, d)\n",
    "    print('α1 = ', α1)\n",
    "    α2 = α_hyperbolique_2(r, d)\n",
    "    print('α2 = ', α2)\n",
    "    return np.linspace(α1, α2, N)\n",
    "\n",
    "# get the values of α0 for which h = pr mu(r) + 1 < 0\n",
    "def α_elliptique_1(r, d):\n",
    "    m = mu(r, d)\n",
    "    if abs(m) > 1.0:\n",
    "        α = α0(r, d) # between -pi/2 and pi/2\n",
    "        if α > 0.0:\n",
    "            return α\n",
    "        else:\n",
    "            return np.pi - α\n",
    "    else:\n",
    "        # raise an error: there is no elliptic domain\n",
    "        raise geometry2d.errors.ArgumentValueError('There is no elliptic domain for this value of d')\n",
    "    \n",
    "def α_elliptique_2(r, d):\n",
    "    m = mu(r, d)\n",
    "    if abs(m) > 1.0:\n",
    "        α = α0(r, d) # between -pi/2 and pi/2\n",
    "        if α > 0.0:\n",
    "            return np.pi - α\n",
    "        else:\n",
    "            return α + 2.0*np.pi\n",
    "    else:\n",
    "        # raise an error: there is no elliptic domain\n",
    "        raise geometry2d.errors.ArgumentValueError('There is no elliptic domain for this value of d')\n",
    "    \n",
    "def α_elliptique_span(r, d, *, N=20):\n",
    "    α1 = α_elliptique_1(r, d)\n",
    "    print('α1 = ', α1)\n",
    "    α2 = α_elliptique_2(r, d)\n",
    "    print('α2 = ', α2)\n",
    "    return np.linspace(α1, α2, N)"
   ]
  },
  {
   "cell_type": "markdown",
   "metadata": {},
   "source": [
    "## Make plots"
   ]
  },
  {
   "cell_type": "code",
   "execution_count": null,
   "metadata": {},
   "outputs": [],
   "source": [
    "def make_plots(r0, d, prob, *, cameras=[{'azimuth': 160, 'elevation': -10}]):\n",
    "\n",
    "    # North hemisphere\n",
    "    rp1 = math.asin(1/np.abs(d))/2.0\n",
    "    rp2 = (math.pi - math.asin(1/np.abs(d))) / 2.0\n",
    "\n",
    "    # South hemisphere\n",
    "    rm1 = (-math.asin(1/np.abs(d)) % (2*np.pi) )/2.0\n",
    "    rm2 = (math.pi + math.asin(1/np.abs(d))) / 2.0\n",
    "\n",
    "    # Geodesics\n",
    "    geodesic = geometry2d.geodesic.Geodesic(prob)\n",
    "\n",
    "    #\n",
    "    αspan_hyperbolique = α_hyperbolique_span(r0, d, N=31)\n",
    "\n",
    "    #\n",
    "    fig2d = geodesic.plot(alphas=αspan_hyperbolique, tf=4, length=1.0, \n",
    "                          view=geometry2d.plottings.Coords.PLANE, figsize=(4,4), color=color_hyperbolic)\n",
    "    fig2d = plot_2d_domain(fig2d, rp1, rp2)\n",
    "    fig2d = plot_2d_domain(fig2d, rm1, rm2)\n",
    "\n",
    "    # cameras is a list of dictionaries containing azimuth and elevetion angles\n",
    "    figs3d = []\n",
    "    for cam in cameras:\n",
    "        azimuth = cam['azimuth']\n",
    "        elevation = cam['elevation']\n",
    "        fig3d = geodesic.plot(alphas=αspan_hyperbolique, tf=4, length=1.0,\n",
    "            view=geometry2d.plottings.Coords.SPHERE, azimuth=azimuth, elevation=elevation, figsize=(3,3),\n",
    "            color=color_hyperbolic)\n",
    "        fig3d = plot_3d_domain(fig3d, rp1, rp2)\n",
    "        fig3d = plot_3d_domain(fig3d, rm1, rm2)\n",
    "        figs3d.append(fig3d)\n",
    "    \n",
    "    return fig2d, figs3d"
   ]
  },
  {
   "cell_type": "markdown",
   "metadata": {},
   "source": [
    "## Example 1"
   ]
  },
  {
   "cell_type": "code",
   "execution_count": null,
   "metadata": {},
   "outputs": [],
   "source": [
    "d = 1.25\n",
    "r0 = np.pi/2.0\n",
    "prob = initialize(d, r0)\n",
    "fig2d, figs3d = make_plots(r0, d, prob)"
   ]
  },
  {
   "cell_type": "code",
   "execution_count": null,
   "metadata": {},
   "outputs": [],
   "source": [
    "fig2d"
   ]
  },
  {
   "cell_type": "code",
   "execution_count": null,
   "metadata": {},
   "outputs": [],
   "source": [
    "figs3d[0]"
   ]
  },
  {
   "cell_type": "markdown",
   "metadata": {},
   "source": [
    "# Example 2"
   ]
  },
  {
   "cell_type": "code",
   "execution_count": null,
   "metadata": {},
   "outputs": [],
   "source": [
    "d = 1.25\n",
    "r0 = np.pi/2.0 + 2.0*np.pi/8.0\n",
    "prob = initialize(d, r0)\n",
    "fig2d, figs3d = make_plots(r0, d, prob)\n",
    "\n",
    "# add Elliptic geodesics\n",
    "αspan_elliptic = α_elliptique_span(r0, d, N=20)\n",
    "geodesic = geometry2d.geodesic.Geodesic(prob)\n",
    "fig3d_with_elliptic = geodesic.plot(alphas=αspan_elliptic, tf=np.pi, \\\n",
    "    view=geometry2d.plottings.Coords.SPHERE, figure=figs3d[0], color=color_elliptic)"
   ]
  },
  {
   "cell_type": "code",
   "execution_count": null,
   "metadata": {},
   "outputs": [],
   "source": []
  },
  {
   "cell_type": "code",
   "execution_count": null,
   "metadata": {},
   "outputs": [],
   "source": [
    "fig2d"
   ]
  },
  {
   "cell_type": "code",
   "execution_count": null,
   "metadata": {},
   "outputs": [],
   "source": [
    "figs3d[0]"
   ]
  },
  {
   "cell_type": "code",
   "execution_count": null,
   "metadata": {},
   "outputs": [],
   "source": [
    "fig3d_with_elliptic"
   ]
  },
  {
   "cell_type": "markdown",
   "metadata": {},
   "source": [
    "# Example 3"
   ]
  },
  {
   "cell_type": "code",
   "execution_count": null,
   "metadata": {},
   "outputs": [],
   "source": [
    "d = 1.25\n",
    "r0 = np.pi/2.0 + 3.0*np.pi/8.0\n",
    "prob = initialize(d, r0)\n",
    "fig2d, figs3d = make_plots(r0, d, prob)"
   ]
  },
  {
   "cell_type": "code",
   "execution_count": null,
   "metadata": {},
   "outputs": [],
   "source": [
    "fig2d"
   ]
  },
  {
   "cell_type": "code",
   "execution_count": null,
   "metadata": {},
   "outputs": [],
   "source": [
    "figs3d[0]"
   ]
  },
  {
   "cell_type": "markdown",
   "metadata": {},
   "source": [
    "# Example 4"
   ]
  },
  {
   "cell_type": "code",
   "execution_count": null,
   "metadata": {},
   "outputs": [],
   "source": [
    "d = -1.25\n",
    "r0 = np.pi/2.0\n",
    "prob = initialize(d, r0)\n",
    "cameras = [{'azimuth': 160, 'elevation': -10}, {'azimuth': 20, 'elevation': -25}]\n",
    "fig2d, figs3d = make_plots(r0, d, prob, cameras=cameras)"
   ]
  },
  {
   "cell_type": "code",
   "execution_count": null,
   "metadata": {},
   "outputs": [],
   "source": [
    "fig2d"
   ]
  },
  {
   "cell_type": "code",
   "execution_count": null,
   "metadata": {},
   "outputs": [],
   "source": [
    "figs3d[0]"
   ]
  },
  {
   "cell_type": "code",
   "execution_count": null,
   "metadata": {},
   "outputs": [],
   "source": [
    "figs3d[1]"
   ]
  },
  {
   "cell_type": "markdown",
   "metadata": {},
   "source": [
    "# Example 5"
   ]
  },
  {
   "cell_type": "code",
   "execution_count": null,
   "metadata": {},
   "outputs": [],
   "source": [
    "d = -1.25\n",
    "r0 = np.pi/2.0 + 2.0*np.pi/8.0\n",
    "prob = initialize(d, r0)\n",
    "cameras = [{'azimuth': 160, 'elevation': -10}, {'azimuth': 160, 'elevation': -40}]\n",
    "fig2d, figs3d = make_plots(r0, d, prob, cameras=cameras)"
   ]
  },
  {
   "cell_type": "code",
   "execution_count": null,
   "metadata": {},
   "outputs": [],
   "source": [
    "fig2d"
   ]
  },
  {
   "cell_type": "code",
   "execution_count": null,
   "metadata": {},
   "outputs": [],
   "source": [
    "figs3d[0]"
   ]
  },
  {
   "cell_type": "code",
   "execution_count": null,
   "metadata": {},
   "outputs": [],
   "source": [
    "figs3d[1]"
   ]
  },
  {
   "cell_type": "markdown",
   "metadata": {},
   "source": [
    "# Example 6"
   ]
  },
  {
   "cell_type": "code",
   "execution_count": null,
   "metadata": {},
   "outputs": [],
   "source": [
    "d = -1.25\n",
    "r0 = np.pi/2.0 + 3.0*np.pi/8.0\n",
    "prob = initialize(d, r0)\n",
    "cameras = [{'azimuth': 160, 'elevation': -10}, {'azimuth': 160, 'elevation': -40}]\n",
    "fig2d, figs3d = make_plots(r0, d, prob, cameras=cameras)"
   ]
  },
  {
   "cell_type": "code",
   "execution_count": null,
   "metadata": {},
   "outputs": [],
   "source": [
    "fig2d"
   ]
  },
  {
   "cell_type": "code",
   "execution_count": null,
   "metadata": {},
   "outputs": [],
   "source": [
    "figs3d[0]"
   ]
  },
  {
   "cell_type": "code",
   "execution_count": null,
   "metadata": {},
   "outputs": [],
   "source": [
    "figs3d[1]"
   ]
  },
  {
   "cell_type": "code",
   "execution_count": null,
   "metadata": {},
   "outputs": [],
   "source": []
  }
 ],
 "metadata": {
  "kernelspec": {
   "display_name": "geometry",
   "language": "python",
   "name": "python3"
  },
  "language_info": {
   "codemirror_mode": {
    "name": "ipython",
    "version": 3
   },
   "file_extension": ".py",
   "mimetype": "text/x-python",
   "name": "python",
   "nbconvert_exporter": "python",
   "pygments_lexer": "ipython3",
   "version": "3.11.4"
  }
 },
 "nbformat": 4,
 "nbformat_minor": 2
}
